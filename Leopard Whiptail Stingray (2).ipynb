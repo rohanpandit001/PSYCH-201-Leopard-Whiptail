{
 "cells": [
  {
   "cell_type": "markdown",
   "id": "2c880e02",
   "metadata": {},
   "source": [
    "Leopard-Whipray \n"
   ]
  },
  {
   "cell_type": "markdown",
   "id": "b0c3f4c4",
   "metadata": {},
   "source": [
    "Rohan Pandit - Rohan.Pandit001@umb.edu \n",
    "Patricia Soltan - Patricia.Soltan001@umb.edu \n",
    "Ryan Ho - Ryan.Ho001@umb.edu \n",
    "Destiny Pina - Destiny.Pina@umb.edu \n",
    "Josh Wenzel - Josh.Wenzel001@umb.edu \n",
    "Raevem Caceres Fernandes - CaceresFernandes001@umb.edu \n",
    "Amy Portillo - Amy.Portillo001@umb.edu"
   ]
  },
  {
   "cell_type": "code",
   "execution_count": 7,
   "id": "c68774fd",
   "metadata": {
    "scrolled": false
   },
   "outputs": [
    {
     "data": {
      "text/html": [
       "<img src=\"https://raw.githubusercontent.com/psoltan21/Stingray/main/Loss%20Curve.png?token=GHSAT0AAAAAACCC2PBEQOXWQSW6HGOKMBBSZCQOY5A\"/>"
      ],
      "text/plain": [
       "<IPython.core.display.Image object>"
      ]
     },
     "execution_count": 7,
     "metadata": {},
     "output_type": "execute_result"
    }
   ],
   "source": [
    "from IPython.display import Image\n",
    "Image(url='https://raw.githubusercontent.com/psoltan21/Stingray/main/Loss%20Curve.png?token=GHSAT0AAAAAACCC2PBEQOXWQSW6HGOKMBBSZCQOY5A')"
   ]
  },
  {
   "cell_type": "markdown",
   "id": "67e4da2e",
   "metadata": {},
   "source": [
    "Loss curve "
   ]
  },
  {
   "cell_type": "code",
   "execution_count": 6,
   "id": "922fb923",
   "metadata": {},
   "outputs": [
    {
     "data": {
      "text/html": [
       "<img src=\"https://raw.githubusercontent.com/psoltan21/Stingray/main/RMSE.png?token=GHSAT0AAAAAACCC2PBF2CVZXQ2NP6KRUMNMZCQOUZA\"/>"
      ],
      "text/plain": [
       "<IPython.core.display.Image object>"
      ]
     },
     "execution_count": 6,
     "metadata": {},
     "output_type": "execute_result"
    }
   ],
   "source": [
    "from IPython.display import Image\n",
    "Image(url='https://raw.githubusercontent.com/psoltan21/Stingray/main/RMSE.png?token=GHSAT0AAAAAACCC2PBF2CVZXQ2NP6KRUMNMZCQOUZA')"
   ]
  },
  {
   "cell_type": "markdown",
   "id": "d49e62e2",
   "metadata": {},
   "source": [
    "RMSE "
   ]
  },
  {
   "cell_type": "code",
   "execution_count": 19,
   "id": "a17bc9e3",
   "metadata": {
    "scrolled": true
   },
   "outputs": [
    {
     "data": {
      "text/html": [
       "\n",
       "<video width=\"200\" height=\"300\" controls>\n",
       " <source src=\"https://github.com/psoltan21/Stingray/blob/main/Untitled.mp4?raw=true\" type=\"video/mp4\">\n",
       "</video>\n"
      ],
      "text/plain": [
       "<IPython.core.display.HTML object>"
      ]
     },
     "execution_count": 19,
     "metadata": {},
     "output_type": "execute_result"
    }
   ],
   "source": [
    "from IPython.display import HTML\n",
    "HTML(\"\"\"\n",
    "<video width=\"200\" height=\"300\" controls>\n",
    " <source src=\"https://github.com/psoltan21/Stingray/blob/main/Untitled.mp4?raw=true\" type=\"video/mp4\">\n",
    "</video>\n",
    "\"\"\")"
   ]
  },
  {
   "cell_type": "code",
   "execution_count": 1,
   "id": "e1c7c91a",
   "metadata": {},
   "outputs": [
    {
     "data": {
      "text/html": [
       "\n",
       "<video width=“200” height=“300” controls>\n",
       "  <source src=\"https://github.com/psoltan21/Stingray/blob/main/Untitled%20(2).mp4?raw=true\" type=\"video/mp4\">\n",
       "</video>\n"
      ],
      "text/plain": [
       "<IPython.core.display.HTML object>"
      ]
     },
     "execution_count": 1,
     "metadata": {},
     "output_type": "execute_result"
    }
   ],
   "source": [
    "from IPython.display import HTML\n",
    "HTML(\"\"\"\n",
    "<video width=“200” height=“300” controls>\n",
    "  <source src=\"https://github.com/psoltan21/Stingray/blob/main/Untitled%20(2).mp4?raw=true\" type=\"video/mp4\">\n",
    "</video>\n",
    "\"\"\")"
   ]
  },
  {
   "cell_type": "code",
   "execution_count": 18,
   "id": "ade0b491",
   "metadata": {},
   "outputs": [
    {
     "data": {
      "text/html": [
       "\n",
       "<video width=“100” height=“200” controls>\n",
       "  <source src=\"https://github.com/psoltan21/Stingray/blob/main/Untitled%20(1).mp4?raw=true\" type=\"video/mp4\">\n",
       "</video>\n"
      ],
      "text/plain": [
       "<IPython.core.display.HTML object>"
      ]
     },
     "execution_count": 18,
     "metadata": {},
     "output_type": "execute_result"
    }
   ],
   "source": [
    "from IPython.display import HTML\n",
    "HTML(\"\"\"\n",
    "<video width=“100” height=“200” controls>\n",
    "  <source src=\"https://github.com/psoltan21/Stingray/blob/main/Untitled%20(1).mp4?raw=true\" type=\"video/mp4\">\n",
    "</video>\n",
    "\"\"\")\n"
   ]
  },
  {
   "cell_type": "code",
   "execution_count": 21,
   "id": "fc9ad1ff",
   "metadata": {},
   "outputs": [
    {
     "data": {
      "text/html": [
       "\n",
       "<video width=“200” height=“300” controls>\n",
       "  <source src=\"https://github.com/psoltan21/Stingray/blob/main/Untitled%20(3).mp4?raw=true\" type=\"video/mp4\">\n",
       "</video>\n"
      ],
      "text/plain": [
       "<IPython.core.display.HTML object>"
      ]
     },
     "execution_count": 21,
     "metadata": {},
     "output_type": "execute_result"
    }
   ],
   "source": [
    "from IPython.display import HTML\n",
    "HTML(\"\"\"\n",
    "<video width=“200” height=“300” controls>\n",
    "  <source src=\"https://github.com/psoltan21/Stingray/blob/main/Untitled%20(3).mp4?raw=true\" type=\"video/mp4\">\n",
    "</video>\n",
    "\"\"\")\n"
   ]
  },
  {
   "cell_type": "code",
   "execution_count": 22,
   "id": "33eafc2a",
   "metadata": {},
   "outputs": [
    {
     "data": {
      "text/html": [
       "\n",
       "<video width=“200” height=“300” controls>\n",
       "  <source src=\"https://github.com/psoltan21/Stingray/blob/main/Untitled%20(4).mp4?raw=true\" type=\"video/mp4\">\n",
       "</video>\n"
      ],
      "text/plain": [
       "<IPython.core.display.HTML object>"
      ]
     },
     "execution_count": 22,
     "metadata": {},
     "output_type": "execute_result"
    }
   ],
   "source": [
    "from IPython.display import HTML\n",
    "HTML(\"\"\"\n",
    "<video width=“200” height=“300” controls>\n",
    "  <source src=\"https://github.com/psoltan21/Stingray/blob/main/Untitled%20(4).mp4?raw=true\" type=\"video/mp4\">\n",
    "</video>\n",
    "\"\"\")\n"
   ]
  },
  {
   "cell_type": "code",
   "execution_count": null,
   "id": "dd0535ac",
   "metadata": {},
   "outputs": [],
   "source": []
  },
  {
   "cell_type": "code",
   "execution_count": 16,
   "id": "1c542cbe",
   "metadata": {},
   "outputs": [
    {
     "data": {
      "text/html": [
       "<img src=\"https://raw.githubusercontent.com/psoltan21/Stingray/main/across%20space%20.png\"/>"
      ],
      "text/plain": [
       "<IPython.core.display.Image object>"
      ]
     },
     "execution_count": 16,
     "metadata": {},
     "output_type": "execute_result"
    }
   ],
   "source": [
    "from IPython.display import Image \n",
    "Image(url='https://raw.githubusercontent.com/psoltan21/Stingray/main/across%20space%20.png')"
   ]
  },
  {
   "cell_type": "markdown",
   "id": "5fccd99a",
   "metadata": {},
   "source": [
    "Body parts plotted in space"
   ]
  },
  {
   "cell_type": "code",
   "execution_count": 17,
   "id": "72b27d3c",
   "metadata": {},
   "outputs": [
    {
     "data": {
      "text/html": [
       "<img src=\"https://raw.githubusercontent.com/psoltan21/Stingray/main/Across%20time.png\"/>"
      ],
      "text/plain": [
       "<IPython.core.display.Image object>"
      ]
     },
     "execution_count": 17,
     "metadata": {},
     "output_type": "execute_result"
    }
   ],
   "source": [
    "from IPython.display import Image \n",
    "Image(url='https://raw.githubusercontent.com/psoltan21/Stingray/main/Across%20time.png')"
   ]
  },
  {
   "cell_type": "markdown",
   "id": "e8d0e218",
   "metadata": {},
   "source": [
    "Body parts plotted across time "
   ]
  },
  {
   "cell_type": "code",
   "execution_count": 14,
   "id": "94ecb64b",
   "metadata": {},
   "outputs": [
    {
     "data": {
      "text/html": [
       "<img src=\"https://raw.githubusercontent.com/psoltan21/Stingray/main/Liklihood.png\"/>"
      ],
      "text/plain": [
       "<IPython.core.display.Image object>"
      ]
     },
     "execution_count": 14,
     "metadata": {},
     "output_type": "execute_result"
    }
   ],
   "source": [
    "from IPython.display import Image \n",
    "Image(url='https://raw.githubusercontent.com/psoltan21/Stingray/main/Liklihood.png')"
   ]
  },
  {
   "cell_type": "markdown",
   "id": "23fc4dff",
   "metadata": {},
   "source": [
    "Every body part likelihood over time"
   ]
  },
  {
   "cell_type": "code",
   "execution_count": 18,
   "id": "b1c675d7",
   "metadata": {},
   "outputs": [
    {
     "data": {
      "text/html": [
       "<img src=\"https://raw.githubusercontent.com/psoltan21/Stingray/main/Differences%20.png\"/>"
      ],
      "text/plain": [
       "<IPython.core.display.Image object>"
      ]
     },
     "execution_count": 18,
     "metadata": {},
     "output_type": "execute_result"
    }
   ],
   "source": [
    "from IPython.display import Image \n",
    "Image(url='https://raw.githubusercontent.com/psoltan21/Stingray/main/Differences%20.png')"
   ]
  },
  {
   "cell_type": "markdown",
   "id": "04db39c0",
   "metadata": {},
   "source": [
    "Consecutive diffrences "
   ]
  }
 ],
 "metadata": {
  "kernelspec": {
   "display_name": "Python 3 (ipykernel)",
   "language": "python",
   "name": "python3"
  },
  "language_info": {
   "codemirror_mode": {
    "name": "ipython",
    "version": 3
   },
   "file_extension": ".py",
   "mimetype": "text/x-python",
   "name": "python",
   "nbconvert_exporter": "python",
   "pygments_lexer": "ipython3",
   "version": "3.9.13"
  }
 },
 "nbformat": 4,
 "nbformat_minor": 5
}
