{
 "cells": [
  {
   "cell_type": "markdown",
   "id": "492f38ef",
   "metadata": {},
   "source": [
    "Rohan Pandit - Rohan.Pandit001@umb.edu\n",
    "Ryan Ho - Ryan.Ho001@umb.edu \n",
    "Destiny Pina - Destiny.Pina@umb.edu \n",
    "Josh Wenzel - Josh.Wenzel001@umb.edu \n",
    "Raeven Caceres Fernandes - CaceresFernandes001@umb.edu \n",
    "Patricia Soltan - Patricia.Soltan001@umb.edu \n",
    "Amy Portillo - Amy.Portillo001@umb.edu"
   ]
  },
  {
   "cell_type": "markdown",
   "id": "7345b641",
   "metadata": {},
   "source": [
    "The Animal we will be studying today is the Leopard Whipray"
   ]
  }
 ],
 "metadata": {
  "kernelspec": {
   "display_name": "Python 3 (ipykernel)",
   "language": "python",
   "name": "python3"
  },
  "language_info": {
   "codemirror_mode": {
    "name": "ipython",
    "version": 3
   },
   "file_extension": ".py",
   "mimetype": "text/x-python",
   "name": "python",
   "nbconvert_exporter": "python",
   "pygments_lexer": "ipython3",
   "version": "3.9.13"
  }
 },
 "nbformat": 4,
 "nbformat_minor": 5
}
